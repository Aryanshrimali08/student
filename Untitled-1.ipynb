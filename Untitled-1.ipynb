{
 "cells": [
  {
   "cell_type": "code",
   "execution_count": 5,
   "id": "5703d6bb",
   "metadata": {},
   "outputs": [
    {
     "name": "stdout",
     "output_type": "stream",
     "text": [
      "Joke: Why do programmers always mix up Christmas and Halloween? Because Oct 31 == Dec 25. (Complexity: 3)\n"
     ]
    }
   ],
   "source": [
    "import random\n",
    "\n",
    "compsci_joke_list = [\n",
    "    {\"joke\": \"Why do programmers prefer dark mode? Because light attracts bugs.\", \"complexity\": \"1\"},\n",
    "    {\"joke\": \"Why do Java developers wear glasses? Because they don't see sharp.\", \"complexity\": \"2\"},\n",
    "    {\"joke\": \"How many programmers does it take to change a light bulb? None, that's a hardware problem.\", \"complexity\": \"1\"},\n",
    "    {\"joke\": \"Why do Python programmers prefer snake_case? Because they can't C.\", \"complexity\": \"2\"},\n",
    "    {\"joke\": \"Why was the JavaScript developer sad? Because he didn't know how to 'null' his feelings.\", \"complexity\": \"3\"},\n",
    "    {\"joke\": \"Why do programmers always mix up Christmas and Halloween? Because Oct 31 == Dec 25.\", \"complexity\": \"3\"},\n",
    "    {\"joke\": \"Why did the programmer quit his job? Because he didn't get arrays.\", \"complexity\": \"O(n)\"},\n",
    "    {\"joke\": \"Why do Linux programmers prefer using the terminal? Because they don't like Windows.\", \"complexity\": \"1\"},\n",
    "]\n",
    "\n",
    "selected_joke = random.choice(compsci_joke_list)\n",
    "print(f\"Joke: {selected_joke['joke']} (Complexity: {selected_joke['complexity']})\")"
   ]
  }
 ],
 "metadata": {
  "kernelspec": {
   "display_name": "venv",
   "language": "python",
   "name": "python3"
  },
  "language_info": {
   "codemirror_mode": {
    "name": "ipython",
    "version": 3
   },
   "file_extension": ".py",
   "mimetype": "text/x-python",
   "name": "python",
   "nbconvert_exporter": "python",
   "pygments_lexer": "ipython3",
   "version": "3.12.3"
  }
 },
 "nbformat": 4,
 "nbformat_minor": 5
}
